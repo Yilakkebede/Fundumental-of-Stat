{
 "cells": [
  {
   "cell_type": "markdown",
   "metadata": {},
   "source": [
    "# Final Fundamentals of Statstics Project"
   ]
  },
  {
   "cell_type": "markdown",
   "metadata": {},
   "source": [
    "## ***30 years CAD Interest Rate Analysis in London International Banking Offerd Rate (LIBOR)***"
   ]
  },
  {
   "cell_type": "markdown",
   "metadata": {},
   "source": [
    "#### Yilak Kebede"
   ]
  },
  {
   "cell_type": "markdown",
   "metadata": {},
   "source": [
    "## Part 1- Introduction"
   ]
  },
  {
   "cell_type": "markdown",
   "metadata": {},
   "source": [
    "### *** What is the project about ***\n",
    "This project demonstrates interest rates relationship with respect to their maturity date in a time-series data\n",
    "\n",
    "### What is LIBOR?  \n",
    "LIBOR is the average interest rate at which major global banks borrow from one another. It is based on five currencies and  7 different maturities.Rises and falls in the LIBOR interest rates can therefore have consequences for the interest rates on all sorts of banking products such as savings accounts, mortgages and loans.  In this project I used only CAD and USD to explore the relationship of interest rate over different maturities.\n",
    "\n",
    "### What is in the Data?\n",
    "I used only six maturities, which are 1 day, 1 week, 1 month, 3 months, 6months and 12 months. The data is 'xts' object on 1990-05-01/2013-05-31 containing 5834 observations. I removed the 1 day and 1 week data from combined analysis with other maturities as the NA's values account for about 47% the data. The extreme values ( min and max) found in one month rate, which makes sense given its exposure to volatility. There are no gaps between the time series of > 3 days/observations.From the above \"any\" function usage, we can conclude there is a gap but not more than 3 days difference. This presence of gaps may or may not be critical depending on the purpose of the assessment, however, I tried to see its other dimensions with respect to Holiday times. \n",
    "\n",
    "### What I got from the analysis\n",
    "The lag/increment analysis has helped me to understand the relationship between different period interest rate, the effect of ongoing events such as recession which take long time to realize its consequence. I used linear interpolation (na.approx) as it is suitable for data with trends but not seasonal. \n",
    "Principal component analysis is frequently used to capture the variability in the movement of interest rates along the term structure. Understanding the variability allows for creation of stressed interest rate term-structures that can be applied as part of a risk management program wherever the uncertainty of interest rates is a concern. Varying degrees of stress can be applied in the fashion of analytical Value-at-Risk (VaR) techniques."
   ]
  },
  {
   "cell_type": "markdown",
   "metadata": {},
   "source": [
    "### Analysis Questions\n",
    "1) how the yield curve varying alonge different maturities? \n",
    "2) which principal component could positively or negatively affect any the interest rate outcomes/ predictions?\n",
    "2) What can we draw from non-seasonal time series data that supports out decision to predict interest rate?\n",
    "\n",
    "Answering these question will give us a sense of how LIBOR affect the bench mark of bank products"
   ]
  },
  {
   "cell_type": "markdown",
   "metadata": {},
   "source": [
    "##   Part 2- Data \n",
    "### Data Collection\n",
    "Data is collected by the US Federal Reserve Bank of St. Louis. LIBOR interest rate data is available in 8 maturities and is pulled via \"quantmod\".\n",
    "\n",
    "US Federal Reserve\n",
    "https://fred.stlouisfed.org/"
   ]
  },
  {
   "cell_type": "markdown",
   "metadata": {},
   "source": [
    "### R Libraries\n",
    " This project utilizes xts, quantmod, ggplot2, and reshape2 packages. The xts package is useful for storing time series data while quantmod allows for reading data. The latter is especially helpful for reading LIBOR data from the source.The ggplot2 package is a well known plotting package used to generate the graphs. "
   ]
  },
  {
   "cell_type": "code",
   "execution_count": 2,
   "metadata": {},
   "outputs": [],
   "source": [
    "library(quantmod)\n",
    "library(fitdistrplus)\n",
    "library(corrplot)\n",
    "library(ggplot2)\n",
    "library(data.table)\n",
    "library(caTools)\n",
    "library(xts)\n",
    "library(zoo)\n",
    "library(ggcorrplot)\n",
    "options(warn=-1)\n"
   ]
  },
  {
   "cell_type": "markdown",
   "metadata": {},
   "source": [
    "### Load LIBOR data:- For all maturities / tenors"
   ]
  },
  {
   "cell_type": "code",
   "execution_count": 4,
   "metadata": {},
   "outputs": [
    {
     "data": {
      "text/html": [
       "<ol class=list-inline>\n",
       "\t<li>'CAD1MTD156N'</li>\n",
       "\t<li>'CAD3MTD156N'</li>\n",
       "\t<li>'CAD6MTD156N'</li>\n",
       "\t<li>'CAD12MD156N'</li>\n",
       "</ol>\n"
      ],
      "text/latex": [
       "\\begin{enumerate*}\n",
       "\\item 'CAD1MTD156N'\n",
       "\\item 'CAD3MTD156N'\n",
       "\\item 'CAD6MTD156N'\n",
       "\\item 'CAD12MD156N'\n",
       "\\end{enumerate*}\n"
      ],
      "text/markdown": [
       "1. 'CAD1MTD156N'\n",
       "2. 'CAD3MTD156N'\n",
       "3. 'CAD6MTD156N'\n",
       "4. 'CAD12MD156N'\n",
       "\n",
       "\n"
      ],
      "text/plain": [
       "[1] \"CAD1MTD156N\" \"CAD3MTD156N\" \"CAD6MTD156N\" \"CAD12MD156N\""
      ]
     },
     "metadata": {},
     "output_type": "display_data"
    }
   ],
   "source": [
    "# choosing for selected tenors (1month, 3 months, 6 months, 12 months)\n",
    "CAD = c(\"CAD1MTD156N\",\"CAD3MTD156N\",\"CAD6MTD156N\",\"CAD12MD156N\")\n",
    "loadSymbols(CAD,src=\"FRED\")\n",
    "CADBind=cbind(CAD1MTD156N,CAD3MTD156N,CAD6MTD156N,CAD12MD156N)\n",
    "CADNa= na.approx(CADBind)\n",
    "CADLibor= diff(CADNa)\n",
    "options(warn=-1)"
   ]
  },
  {
   "cell_type": "code",
   "execution_count": 5,
   "metadata": {},
   "outputs": [
    {
     "data": {
      "text/html": [
       "<ol class=list-inline>\n",
       "\t<li>'USD1MTD156N'</li>\n",
       "\t<li>'USD3MTD156N'</li>\n",
       "\t<li>'USD6MTD156N'</li>\n",
       "\t<li>'USD12MD156N'</li>\n",
       "</ol>\n"
      ],
      "text/latex": [
       "\\begin{enumerate*}\n",
       "\\item 'USD1MTD156N'\n",
       "\\item 'USD3MTD156N'\n",
       "\\item 'USD6MTD156N'\n",
       "\\item 'USD12MD156N'\n",
       "\\end{enumerate*}\n"
      ],
      "text/markdown": [
       "1. 'USD1MTD156N'\n",
       "2. 'USD3MTD156N'\n",
       "3. 'USD6MTD156N'\n",
       "4. 'USD12MD156N'\n",
       "\n",
       "\n"
      ],
      "text/plain": [
       "[1] \"USD1MTD156N\" \"USD3MTD156N\" \"USD6MTD156N\" \"USD12MD156N\""
      ]
     },
     "metadata": {},
     "output_type": "display_data"
    }
   ],
   "source": [
    "USD = c(\"USD1MTD156N\",\"USD3MTD156N\",\"USD6MTD156N\",\"USD12MD156N\")\n",
    "getSymbols(USD,src =\"FRED\")\n",
    "USDBind = cbind(USD1MTD156N,USD3MTD156N,USD6MTD156N,USD12MD156N)\n",
    "USDNa= na.approx(USDBind)\n",
    "USDLibor= diff(USDNa)"
   ]
  },
  {
   "cell_type": "markdown",
   "metadata": {},
   "source": [
    "The max and min value (the extreams) for both CAD and USD varies, which entails the the outliers might not have global impact. However the minimum value registred in CAD-LIBOR on \"1998-09-02\" might have a strong relationship with 1998 Russian financial crises following the decision to abandon the \"floating peg\" policy and float the ruble freely. At that time the exchange rate had reached 21 rubles for one US dollar, meaning it had lost two thirds of its value of less than a month earlier."
   ]
  },
  {
   "cell_type": "code",
   "execution_count": 6,
   "metadata": {
    "scrolled": false
   },
   "outputs": [
    {
     "data": {
      "text/html": [
       "612"
      ],
      "text/latex": [
       "612"
      ],
      "text/markdown": [
       "612"
      ],
      "text/plain": [
       "[1] 612"
      ]
     },
     "metadata": {},
     "output_type": "display_data"
    },
    {
     "data": {
      "text/plain": [
       "           CAD1MTD156N CAD3MTD156N CAD6MTD156N CAD12MD156N\n",
       "1992-09-30     3.07812      1.9375      1.3125     0.85938"
      ]
     },
     "metadata": {},
     "output_type": "display_data"
    },
    {
     "data": {
      "text/html": [
       "2107"
      ],
      "text/latex": [
       "2107"
      ],
      "text/markdown": [
       "2107"
      ],
      "text/plain": [
       "[1] 2107"
      ]
     },
     "metadata": {},
     "output_type": "display_data"
    },
    {
     "data": {
      "text/plain": [
       "           CAD1MTD156N CAD3MTD156N CAD6MTD156N CAD12MD156N\n",
       "1998-09-02    -1.11719    -1.07812    -1.03125    -0.94531"
      ]
     },
     "metadata": {},
     "output_type": "display_data"
    },
    {
     "data": {
      "text/html": [
       "253"
      ],
      "text/latex": [
       "253"
      ],
      "text/markdown": [
       "253"
      ],
      "text/plain": [
       "[1] 253"
      ]
     },
     "metadata": {},
     "output_type": "display_data"
    },
    {
     "data": {
      "text/plain": [
       "           USD1MTD156N USD3MTD156N USD6MTD156N USD12MD156N\n",
       "1986-12-22      1.3281      0.3125      0.2031      0.1875"
      ]
     },
     "metadata": {},
     "output_type": "display_data"
    },
    {
     "data": {
      "text/html": [
       "1302"
      ],
      "text/latex": [
       "1302"
      ],
      "text/markdown": [
       "1302"
      ],
      "text/plain": [
       "[1] 1302"
      ]
     },
     "metadata": {},
     "output_type": "display_data"
    },
    {
     "data": {
      "text/plain": [
       "           CAD1MTD156N CAD3MTD156N CAD6MTD156N CAD12MD156N\n",
       "1995-06-27      0.0625     0.10937      0.0625      0.0625"
      ]
     },
     "metadata": {},
     "output_type": "display_data"
    }
   ],
   "source": [
    "which.max(CADLibor)\n",
    "CADLibor[612]\n",
    "which.min(CADLibor)\n",
    "CADLibor[2107]\n",
    "which.max(USDLibor)\n",
    "USDLibor[253]\n",
    "which.min(USDLibor)\n",
    "CADLibor[1302]"
   ]
  },
  {
   "cell_type": "code",
   "execution_count": 7,
   "metadata": {},
   "outputs": [],
   "source": [
    "CADxts = xts(x=CADLibor,order.by= as.Date(index(CADLibor)))\n",
    "USDxts = xts(x=USDLibor,order.by= as.Date(index(USDLibor)))"
   ]
  },
  {
   "cell_type": "markdown",
   "metadata": {},
   "source": [
    "The time series doesnt have data gaps for > 3 days in the USD, however the CAD have gaps for more than 3 days. "
   ]
  },
  {
   "cell_type": "code",
   "execution_count": 8,
   "metadata": {},
   "outputs": [
    {
     "data": {
      "text/html": [
       "TRUE"
      ],
      "text/latex": [
       "TRUE"
      ],
      "text/markdown": [
       "TRUE"
      ],
      "text/plain": [
       "[1] TRUE"
      ]
     },
     "metadata": {},
     "output_type": "display_data"
    },
    {
     "data": {
      "text/html": [
       "TRUE"
      ],
      "text/latex": [
       "TRUE"
      ],
      "text/markdown": [
       "TRUE"
      ],
      "text/plain": [
       "[1] TRUE"
      ]
     },
     "metadata": {},
     "output_type": "display_data"
    },
    {
     "data": {
      "text/html": [
       "TRUE"
      ],
      "text/latex": [
       "TRUE"
      ],
      "text/markdown": [
       "TRUE"
      ],
      "text/plain": [
       "[1] TRUE"
      ]
     },
     "metadata": {},
     "output_type": "display_data"
    },
    {
     "data": {
      "text/html": [
       "TRUE"
      ],
      "text/latex": [
       "TRUE"
      ],
      "text/markdown": [
       "TRUE"
      ],
      "text/plain": [
       "[1] TRUE"
      ]
     },
     "metadata": {},
     "output_type": "display_data"
    },
    {
     "data": {
      "text/html": [
       "TRUE"
      ],
      "text/latex": [
       "TRUE"
      ],
      "text/markdown": [
       "TRUE"
      ],
      "text/plain": [
       "[1] TRUE"
      ]
     },
     "metadata": {},
     "output_type": "display_data"
    },
    {
     "data": {
      "text/html": [
       "FALSE"
      ],
      "text/latex": [
       "FALSE"
      ],
      "text/markdown": [
       "FALSE"
      ],
      "text/plain": [
       "[1] FALSE"
      ]
     },
     "metadata": {},
     "output_type": "display_data"
    }
   ],
   "source": [
    "GapsUSD = diff(zoo::index(USDxts))\n",
    "GapsCAD = diff(zoo::index(CADxts))\n",
    "any(GapsCAD >1)\n",
    "any(GapsCAD >2)\n",
    "any(GapsCAD >3)\n",
    "any(GapsUSD >1)\n",
    "any(GapsUSD >2)\n",
    "any(GapsUSD >3)"
   ]
  },
  {
   "cell_type": "markdown",
   "metadata": {},
   "source": [
    "I choose the 3month maturity to examine the trend as it the most common bench mark for the financial industry"
   ]
  },
  {
   "cell_type": "code",
   "execution_count": 10,
   "metadata": {},
   "outputs": [
    {
     "name": "stderr",
     "output_type": "stream",
     "text": [
      "`geom_smooth()` using method = 'gam' and formula 'y ~ s(x, bs = \"cs\")'\n"
     ]
    },
    {
     "data": {},
     "metadata": {},
     "output_type": "display_data"
    },
    {
     "data": {
      "image/png": "[encoded data removed]",
      "text/plain": [
       "plot without title"
      ]
     },
     "metadata": {},
     "output_type": "display_data"
    }
   ],
   "source": [
    "autoplot(CADBind$CAD3MTD156N,ylim=c(0,20),facets = TRUE) + geom_smooth()"
   ]
  },
  {
   "cell_type": "markdown",
   "metadata": {},
   "source": [
    "To be able to identify the location of multiple change points within thetime series, I used \"changepoint\" package to assess the mean shift exhibited during the period.  As the figure below shows, the changepoint detection tried to estimating the point at which the statistical properties of a sequence of observations change. "
   ]
  },
  {
   "cell_type": "code",
   "execution_count": 11,
   "metadata": {},
   "outputs": [
    {
     "name": "stderr",
     "output_type": "stream",
     "text": [
      "Successfully loaded changepoint package version 2.2.2\n",
      " NOTE: Predefined penalty values changed in version 2.2.  Previous penalty values with a postfix 1 i.e. SIC1 are now without i.e. SIC and previous penalties without a postfix i.e. SIC are now with a postfix 0 i.e. SIC0. See NEWS and help files for further details.\n"
     ]
    },
    {
     "data": {
      "image/png": "[encoded data removed]",
      "text/plain": [
       "plot without title"
      ]
     },
     "metadata": {},
     "output_type": "display_data"
    }
   ],
   "source": [
    "library(changepoint)\n",
    "dataout= CADBind$CAD3MTD156N[!is.na(CADBind$CAD3MTD156N),]\n",
    "out=cpt.mean(as.numeric(dataout),penalty=\"MBIC\",pen.value=0,method=\"AMOC\",Q=5,test.stat=\"Normal\",class=TRUE,param.estimates=TRUE,minseglen=1)\n",
    "plot(out,diagnostic=TRUE )"
   ]
  },
  {
   "cell_type": "markdown",
   "metadata": {},
   "source": []
  },
  {
   "cell_type": "markdown",
   "metadata": {},
   "source": [
    "## Part-3 Data Analysis"
   ]
  },
  {
   "cell_type": "markdown",
   "metadata": {},
   "source": [
    "### Interest rate jumps ver  a year (252 days)"
   ]
  },
  {
   "cell_type": "code",
   "execution_count": 12,
   "metadata": {},
   "outputs": [
    {
     "data": {},
     "metadata": {},
     "output_type": "display_data"
    },
    {
     "data": {
      "image/png": "[encoded data removed]",
      "text/plain": [
       "plot without title"
      ]
     },
     "metadata": {},
     "output_type": "display_data"
    }
   ],
   "source": [
    "CADjumps = diff(CADBind, lag=250)\n",
    "CADjumps[is.na(CADjumps)] <- 0\n",
    "autoplot(CADjumps)"
   ]
  },
  {
   "cell_type": "markdown",
   "metadata": {},
   "source": [
    "### 1-Day and 30-Days Interest Rate Increment"
   ]
  },
  {
   "cell_type": "code",
   "execution_count": 14,
   "metadata": {},
   "outputs": [],
   "source": [
    "CAD1Increment= diff(CADLibor)\n",
    "CAD1Increment[is.na(CAD1Increment)] <- 0\n",
    "CAD30Increment= diff(CADLibor, lag=30, differences = 1)\n",
    "CAD30Increment[is.na(CAD30Increment)] <- 0\n",
    "Increment1=autoplot(CAD1Increment)\n",
    "Increment30=autoplot(CAD30Increment)"
   ]
  },
  {
   "cell_type": "code",
   "execution_count": 15,
   "metadata": {},
   "outputs": [
    {
     "data": {
      "image/png": "[encoded data removed]",
      "text/plain": [
       "plot without title"
      ]
     },
     "metadata": {},
     "output_type": "display_data"
    }
   ],
   "source": [
    "library(gridExtra)\n",
    "grid.arrange(Increment1,Increment30, nrow=1)"
   ]
  },
  {
   "cell_type": "markdown",
   "metadata": {},
   "source": [
    "### Comparaing 1Day Increment and 30 Days Incremement Distribution on 3Month Rate"
   ]
  },
  {
   "cell_type": "markdown",
   "metadata": {},
   "source": [
    "The distribution 1 day increment and 30 days increment could give a picture on what kind of distribution the time series has. The interest rate increment will take the bell shaped normal distribution pattern for longer maturity rates and for 30days increment in particular. This is due to Central Limit Theorem that basically states with sample size increases, the distribution of the sample mean of a parameter becomes normally distributed, regardless of the underlying distribution of data."
   ]
  },
  {
   "cell_type": "code",
   "execution_count": 16,
   "metadata": {},
   "outputs": [
    {
     "data": {
      "image/png": "[encoded data removed]",
      "text/plain": [
       "Plot with title \"Histogram of CAD30Increment$CAD12MD156N\""
      ]
     },
     "metadata": {},
     "output_type": "display_data"
    }
   ],
   "source": [
    "par(mfrow=c(2,2))\n",
    "hist(CAD1Increment$CAD3MTD156N, freq=F,col=\"slateblue1\", xlab='Dist1 Day Increments',ylim=c(0,5.8),xlim=c(-1,1))\n",
    "curve(dnorm(x, mean=mean(CAD1Increment[,\"CAD3MTD156N\"]), sd=sd(CAD1Increment[,\"CAD3MTD156N\"])), add=TRUE)\n",
    "hist(CAD30Increment$CAD3MTD156N, freq=F,col=\"slateblue1\", xlab='Dist of 30 Day Increments',ylim=c(0,5.8),xlim=c(-1,1))\n",
    "curve(dnorm(x, mean=mean(CAD30Increment[,\"CAD3MTD156N\"]), sd=sd(CAD30Increment[,\"CAD3MTD156N\"])), add=TRUE)\n",
    "hist(CAD1Increment$CAD12MD156N, freq=F, xlab='Dist of 1 Day Increments',ylim=c(0,5.8),xlim=c(-1,1))\n",
    "curve(dnorm(x, mean=mean(CAD1Increment[,\"CAD12MD156N\"]), sd=sd(CAD1Increment[,\"CAD12MD156N\"])), add=TRUE)\n",
    "hist(CAD30Increment$CAD12MD156N, freq=F, xlab='Dist of 30 Day Increments',ylim=c(0,5.8),xlim=c(-1,1))\n",
    "curve(dnorm(x, mean=mean(CAD30Increment[,\"CAD12MD156N\"]), sd=sd(CAD30Increment[,\"CAD12MD156N\"])), add=TRUE)"
   ]
  },
  {
   "cell_type": "code",
   "execution_count": 17,
   "metadata": {},
   "outputs": [
    {
     "data": {
      "image/png": "[encoded data removed]",
      "text/plain": [
       "Plot with title \"Histogram of CAD1Increment$CAD3MTD156N\""
      ]
     },
     "metadata": {},
     "output_type": "display_data"
    }
   ],
   "source": [
    "hist(CAD1Increment$CAD3MTD156N, freq=F,col=\"slateblue1\", xlab='Dist1 Day Increments',ylim=c(0,5.8),xlim=c(-1,1), breaks=15)\n",
    "curve(dnorm(x, mean=mean(CAD1Increment[,\"CAD12MD156N\"]), sd=sd(CAD1Increment[,\"CAD12MD156N\"])), add=TRUE)"
   ]
  },
  {
   "cell_type": "markdown",
   "metadata": {},
   "source": [
    "### Linear regression \n",
    "Comparing the two types of increments via linear regression model, the relationship of the maturies, is better for 30 days increment, given the R-squared is high for 30 days increment."
   ]
  },
  {
   "cell_type": "code",
   "execution_count": 18,
   "metadata": {
    "scrolled": true
   },
   "outputs": [
    {
     "data": {
      "text/plain": [
       "\n",
       "Call:\n",
       "lm(formula = CAD1Increment$CAD3MTD156N ~ CAD1Increment$CAD6MTD156N + \n",
       "    CAD1Increment$CAD12MD156N, data = CAD1Increment)\n",
       "\n",
       "Residuals:\n",
       "     Min       1Q   Median       3Q      Max \n",
       "-1.04829 -0.01288  0.00000  0.01285  0.70658 \n",
       "\n",
       "Coefficients:\n",
       "                            Estimate Std. Error t value Pr(>|t|)    \n",
       "(Intercept)               -4.043e-06  6.500e-04  -0.006    0.995    \n",
       "CAD1Increment$CAD6MTD156N  7.830e-01  1.369e-02  57.206  < 2e-16 ***\n",
       "CAD1Increment$CAD12MD156N  9.482e-02  1.401e-02   6.767 1.44e-11 ***\n",
       "---\n",
       "Signif. codes:  0 '***' 0.001 '**' 0.01 '*' 0.05 '.' 0.1 ' ' 1\n",
       "\n",
       "Residual standard error: 0.04965 on 5831 degrees of freedom\n",
       "Multiple R-squared:  0.7565,\tAdjusted R-squared:  0.7564 \n",
       "F-statistic:  9059 on 2 and 5831 DF,  p-value: < 2.2e-16\n"
      ]
     },
     "metadata": {},
     "output_type": "display_data"
    }
   ],
   "source": [
    "model1= lm(CAD1Increment$CAD3MTD156N~CAD1Increment$CAD6MTD156N+CAD1Increment$CAD12MD156N, data = CAD1Increment)\n",
    "summary(model1)"
   ]
  },
  {
   "cell_type": "code",
   "execution_count": 19,
   "metadata": {
    "scrolled": true
   },
   "outputs": [
    {
     "data": {
      "text/plain": [
       "\n",
       "Call:\n",
       "lm(formula = CAD30Increment$CAD3MTD156N ~ CAD30Increment$CAD6MTD156N + \n",
       "    CAD30Increment$CAD12MD156N, data = CAD30Increment)\n",
       "\n",
       "Residuals:\n",
       "     Min       1Q   Median       3Q      Max \n",
       "-0.70100 -0.01187  0.00005  0.01234  0.79133 \n",
       "\n",
       "Coefficients:\n",
       "                             Estimate Std. Error t value Pr(>|t|)    \n",
       "(Intercept)                -4.712e-05  5.945e-04  -0.079    0.937    \n",
       "CAD30Increment$CAD6MTD156N  8.860e-01  1.382e-02  64.122   <2e-16 ***\n",
       "CAD30Increment$CAD12MD156N -2.222e-02  1.386e-02  -1.603    0.109    \n",
       "---\n",
       "Signif. codes:  0 '***' 0.001 '**' 0.01 '*' 0.05 '.' 0.1 ' ' 1\n",
       "\n",
       "Residual standard error: 0.04541 on 5831 degrees of freedom\n",
       "Multiple R-squared:  0.7915,\tAdjusted R-squared:  0.7915 \n",
       "F-statistic: 1.107e+04 on 2 and 5831 DF,  p-value: < 2.2e-16\n"
      ]
     },
     "metadata": {},
     "output_type": "display_data"
    }
   ],
   "source": [
    "model30= lm(CAD30Increment$CAD3MTD156N~CAD30Increment$CAD6MTD156N+CAD30Increment$CAD12MD156N, data = CAD30Increment)\n",
    "summary(model30)"
   ]
  },
  {
   "cell_type": "markdown",
   "metadata": {},
   "source": [
    "# Correlation between terms/ maturities "
   ]
  },
  {
   "cell_type": "code",
   "execution_count": null,
   "metadata": {},
   "outputs": [],
   "source": []
  },
  {
   "cell_type": "code",
   "execution_count": 20,
   "metadata": {},
   "outputs": [
    {
     "data": {},
     "metadata": {},
     "output_type": "display_data"
    },
    {
     "data": {},
     "metadata": {},
     "output_type": "display_data"
    },
    {
     "data": {
      "image/png": "[encoded data removed]",
      "text/plain": [
       "plot without title"
      ]
     },
     "metadata": {},
     "output_type": "display_data"
    },
    {
     "data": {
      "image/png": "[encoded data removed]",
      "text/plain": [
       "plot without title"
      ]
     },
     "metadata": {},
     "output_type": "display_data"
    }
   ],
   "source": [
    "A = round(cor(CAD1Increment), 4)\n",
    "B= round(cor(CAD1Increment),4)\n",
    "ggcorrplot(A,type = \"lower\", outline.col = \"white\")\n",
    "ggcorrplot(B,type = \"lower\", outline.col = \"white\")"
   ]
  },
  {
   "cell_type": "code",
   "execution_count": null,
   "metadata": {},
   "outputs": [],
   "source": []
  },
  {
   "cell_type": "markdown",
   "metadata": {},
   "source": [
    "# Yeild Curve/ term structure calculation"
   ]
  },
  {
   "cell_type": "code",
   "execution_count": 21,
   "metadata": {},
   "outputs": [
    {
     "data": {
      "image/png": "[encoded data removed]",
      "text/plain": [
       "Plot with title \"Average Term Structure for Interest Rate over Time\""
      ]
     },
     "metadata": {},
     "output_type": "display_data"
    }
   ],
   "source": [
    "# selecting few tem of strucutres\n",
    "b1=mean(na.omit(CADBind$CAD1MTD156N))\n",
    "b2=mean(na.omit(CADBind$CAD3MTD156N))\n",
    "b3=mean(na.omit(CADBind$CAD6MTD156N))\n",
    "b4=mean(na.omit(CADBind$CAD12MD156N))\n",
    "\n",
    "c1=apply(CADBind$CAD1MTD156N,2,sd)\n",
    "c2=apply(CADBind$CAD3MTD156N,2,sd)\n",
    "c3=apply(CADBind$CAD6MTD156N,2,sd)\n",
    "c4=apply(CADBind$CAD12MD156N,2,sd)\n",
    "\n",
    "TermStructure= c(1,2,3,4)\n",
    "avg= c(b1,b2,b3,b4)\n",
    "sdev = c(c1,c2,c3,c4)\n",
    "plot(TermStructure, avg, ylim=(c(-2, 10)),pch=19, xlab=\"Measurements\", ylab=\"Mean +/- SD\",main=\"Average Term Structure for Interest Rate over Time\")\n",
    "arrows(TermStructure, avg-sdev, TermStructure, avg+sdev, length=0.05, angle=90, code=3,col=\"red\")\n",
    "lines((avg), col=\"blue\") "
   ]
  },
  {
   "cell_type": "markdown",
   "metadata": {},
   "source": []
  },
  {
   "cell_type": "markdown",
   "metadata": {},
   "source": [
    "### Principal Component Interpretation\n",
    "In this section the sign of the key principal components are changed to align with interpretations :\n",
    "1) the first principal component is highly correlated with the rates of all maturities and the correlations\n",
    "2) the second principal component is negatively correlated with short-maturity rates and positively correlated with long-maturity series. This allows for an interpretation of the second principal component as a factor that tilts the term structure (“steepness”)\n"
   ]
  },
  {
   "cell_type": "markdown",
   "metadata": {},
   "source": []
  },
  {
   "cell_type": "code",
   "execution_count": 22,
   "metadata": {},
   "outputs": [
    {
     "data": {
      "text/html": [
       "'data.frame'"
      ],
      "text/latex": [
       "'data.frame'"
      ],
      "text/markdown": [
       "'data.frame'"
      ],
      "text/plain": [
       "[1] \"data.frame\""
      ]
     },
     "metadata": {},
     "output_type": "display_data"
    },
    {
     "data": {
      "text/plain": [
       "Importance of components:\n",
       "                          PC1    PC2     PC3     PC4\n",
       "Standard deviation     1.8350 0.6771 0.32901 0.25737\n",
       "Proportion of Variance 0.8418 0.1146 0.02706 0.01656\n",
       "Cumulative Proportion  0.8418 0.9564 0.98344 1.00000"
      ]
     },
     "metadata": {},
     "output_type": "display_data"
    },
    {
     "data": {
      "image/png": "[encoded data removed]",
      "text/plain": [
       "plot without title"
      ]
     },
     "metadata": {},
     "output_type": "display_data"
    }
   ],
   "source": [
    "CADPCA = na.omit(CAD30Increment[-c(1,2),])\n",
    "x=as.xts(CADPCA, dateFormat= 'Date')\n",
    "df=fortify.zoo(x)\n",
    "class(df)\n",
    "\n",
    "df.pca=prcomp(df[,c(2:5)],  scale. = TRUE)\n",
    "summary(df.pca)\n",
    "\n",
    "t = summary(df.pca)\n",
    "barplot(t[[\"importance\"]][2,], ylim=c(0,1))\n",
    "\n",
    "#Therefore the variance explained by the first 3 Principle Components is 99.75%"
   ]
  },
  {
   "cell_type": "code",
   "execution_count": 23,
   "metadata": {},
   "outputs": [
    {
     "name": "stderr",
     "output_type": "stream",
     "text": [
      "Loading required package: plyr\n",
      "Loading required package: scales\n",
      "Loading required package: grid\n"
     ]
    }
   ],
   "source": [
    "library(ggbiplot)"
   ]
  },
  {
   "cell_type": "markdown",
   "metadata": {},
   "source": [
    "#### The second principal component is negatively correlated with short-maturity rates and positively correlated with long-maturity series."
   ]
  },
  {
   "cell_type": "code",
   "execution_count": 24,
   "metadata": {},
   "outputs": [
    {
     "data": {},
     "metadata": {},
     "output_type": "display_data"
    },
    {
     "data": {
      "image/png": "[encoded data removed]",
      "text/plain": [
       "plot without title"
      ]
     },
     "metadata": {},
     "output_type": "display_data"
    }
   ],
   "source": [
    "ggbiplot(df.pca,ellipse=FALSE, bs.scale = 0, var.scale = 0,  labels=rownames(df.pca))+\n",
    "  ggtitle(\"PCA of 30 Days Increment\")+\n",
    "  theme_minimal()+\n",
    "  theme(legend.position = \"bottom\")\n"
   ]
  },
  {
   "cell_type": "markdown",
   "metadata": {},
   "source": []
  }
 ],
 "metadata": {
  "kernelspec": {
   "display_name": "R",
   "language": "R",
   "name": "ir"
  },
  "language_info": {
   "codemirror_mode": "r",
   "file_extension": ".r",
   "mimetype": "text/x-r-source",
   "name": "R",
   "pygments_lexer": "r",
   "version": "3.5.1"
  }
 },
 "nbformat": 4,
 "nbformat_minor": 2
}
